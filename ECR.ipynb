{
 "cells": [
  {
   "cell_type": "code",
   "execution_count": 1,
   "metadata": {},
   "outputs": [],
   "source": [
    "import pandas as pd\n",
    "from sklearn.preprocessing import LabelEncoder, MinMaxScaler\n",
    "\n",
    "# Load the dataset\n",
    "data = pd.read_csv(\"C:/Users/Admin/Downloads/user_personalized_features.csv\")"
   ]
  },
  {
   "cell_type": "code",
   "execution_count": 2,
   "metadata": {},
   "outputs": [
    {
     "data": {
      "text/html": [
       "<div>\n",
       "<style scoped>\n",
       "    .dataframe tbody tr th:only-of-type {\n",
       "        vertical-align: middle;\n",
       "    }\n",
       "\n",
       "    .dataframe tbody tr th {\n",
       "        vertical-align: top;\n",
       "    }\n",
       "\n",
       "    .dataframe thead th {\n",
       "        text-align: right;\n",
       "    }\n",
       "</style>\n",
       "<table border=\"1\" class=\"dataframe\">\n",
       "  <thead>\n",
       "    <tr style=\"text-align: right;\">\n",
       "      <th></th>\n",
       "      <th>Unnamed: 0</th>\n",
       "      <th>User_ID</th>\n",
       "      <th>Age</th>\n",
       "      <th>Gender</th>\n",
       "      <th>Location</th>\n",
       "      <th>Income</th>\n",
       "      <th>Interests</th>\n",
       "      <th>Last_Login_Days_Ago</th>\n",
       "      <th>Purchase_Frequency</th>\n",
       "      <th>Average_Order_Value</th>\n",
       "      <th>Total_Spending</th>\n",
       "      <th>Product_Category_Preference</th>\n",
       "      <th>Time_Spent_on_Site_Minutes</th>\n",
       "      <th>Pages_Viewed</th>\n",
       "      <th>Newsletter_Subscription</th>\n",
       "    </tr>\n",
       "  </thead>\n",
       "  <tbody>\n",
       "    <tr>\n",
       "      <th>0</th>\n",
       "      <td>0</td>\n",
       "      <td>#1</td>\n",
       "      <td>56</td>\n",
       "      <td>Male</td>\n",
       "      <td>Suburban</td>\n",
       "      <td>38037</td>\n",
       "      <td>Sports</td>\n",
       "      <td>5</td>\n",
       "      <td>7</td>\n",
       "      <td>18</td>\n",
       "      <td>2546</td>\n",
       "      <td>Books</td>\n",
       "      <td>584</td>\n",
       "      <td>38</td>\n",
       "      <td>True</td>\n",
       "    </tr>\n",
       "    <tr>\n",
       "      <th>1</th>\n",
       "      <td>1</td>\n",
       "      <td>#2</td>\n",
       "      <td>46</td>\n",
       "      <td>Female</td>\n",
       "      <td>Rural</td>\n",
       "      <td>103986</td>\n",
       "      <td>Technology</td>\n",
       "      <td>15</td>\n",
       "      <td>7</td>\n",
       "      <td>118</td>\n",
       "      <td>320</td>\n",
       "      <td>Electronics</td>\n",
       "      <td>432</td>\n",
       "      <td>40</td>\n",
       "      <td>False</td>\n",
       "    </tr>\n",
       "    <tr>\n",
       "      <th>2</th>\n",
       "      <td>2</td>\n",
       "      <td>#3</td>\n",
       "      <td>32</td>\n",
       "      <td>Female</td>\n",
       "      <td>Suburban</td>\n",
       "      <td>101942</td>\n",
       "      <td>Sports</td>\n",
       "      <td>28</td>\n",
       "      <td>1</td>\n",
       "      <td>146</td>\n",
       "      <td>3766</td>\n",
       "      <td>Apparel</td>\n",
       "      <td>306</td>\n",
       "      <td>1</td>\n",
       "      <td>True</td>\n",
       "    </tr>\n",
       "    <tr>\n",
       "      <th>3</th>\n",
       "      <td>3</td>\n",
       "      <td>#4</td>\n",
       "      <td>60</td>\n",
       "      <td>Female</td>\n",
       "      <td>Suburban</td>\n",
       "      <td>71612</td>\n",
       "      <td>Fashion</td>\n",
       "      <td>18</td>\n",
       "      <td>3</td>\n",
       "      <td>163</td>\n",
       "      <td>4377</td>\n",
       "      <td>Apparel</td>\n",
       "      <td>527</td>\n",
       "      <td>29</td>\n",
       "      <td>False</td>\n",
       "    </tr>\n",
       "    <tr>\n",
       "      <th>4</th>\n",
       "      <td>4</td>\n",
       "      <td>#5</td>\n",
       "      <td>25</td>\n",
       "      <td>Male</td>\n",
       "      <td>Suburban</td>\n",
       "      <td>49725</td>\n",
       "      <td>Travel</td>\n",
       "      <td>2</td>\n",
       "      <td>5</td>\n",
       "      <td>141</td>\n",
       "      <td>4502</td>\n",
       "      <td>Health &amp; Beauty</td>\n",
       "      <td>53</td>\n",
       "      <td>10</td>\n",
       "      <td>True</td>\n",
       "    </tr>\n",
       "  </tbody>\n",
       "</table>\n",
       "</div>"
      ],
      "text/plain": [
       "   Unnamed: 0 User_ID  Age  Gender  Location  Income   Interests  \\\n",
       "0           0      #1   56    Male  Suburban   38037      Sports   \n",
       "1           1      #2   46  Female     Rural  103986  Technology   \n",
       "2           2      #3   32  Female  Suburban  101942      Sports   \n",
       "3           3      #4   60  Female  Suburban   71612     Fashion   \n",
       "4           4      #5   25    Male  Suburban   49725      Travel   \n",
       "\n",
       "   Last_Login_Days_Ago  Purchase_Frequency  Average_Order_Value  \\\n",
       "0                    5                   7                   18   \n",
       "1                   15                   7                  118   \n",
       "2                   28                   1                  146   \n",
       "3                   18                   3                  163   \n",
       "4                    2                   5                  141   \n",
       "\n",
       "   Total_Spending Product_Category_Preference  Time_Spent_on_Site_Minutes  \\\n",
       "0            2546                       Books                         584   \n",
       "1             320                 Electronics                         432   \n",
       "2            3766                     Apparel                         306   \n",
       "3            4377                     Apparel                         527   \n",
       "4            4502             Health & Beauty                          53   \n",
       "\n",
       "   Pages_Viewed  Newsletter_Subscription  \n",
       "0            38                     True  \n",
       "1            40                    False  \n",
       "2             1                     True  \n",
       "3            29                    False  \n",
       "4            10                     True  "
      ]
     },
     "execution_count": 2,
     "metadata": {},
     "output_type": "execute_result"
    }
   ],
   "source": [
    "data.head()"
   ]
  },
  {
   "cell_type": "code",
   "execution_count": 3,
   "metadata": {},
   "outputs": [
    {
     "data": {
      "text/plain": [
       "(1000, 15)"
      ]
     },
     "execution_count": 3,
     "metadata": {},
     "output_type": "execute_result"
    }
   ],
   "source": [
    "data.shape"
   ]
  },
  {
   "cell_type": "code",
   "execution_count": 4,
   "metadata": {},
   "outputs": [
    {
     "name": "stdout",
     "output_type": "stream",
     "text": [
      "<class 'pandas.core.frame.DataFrame'>\n",
      "RangeIndex: 1000 entries, 0 to 999\n",
      "Data columns (total 15 columns):\n",
      " #   Column                       Non-Null Count  Dtype \n",
      "---  ------                       --------------  ----- \n",
      " 0   Unnamed: 0                   1000 non-null   int64 \n",
      " 1   User_ID                      1000 non-null   object\n",
      " 2   Age                          1000 non-null   int64 \n",
      " 3   Gender                       1000 non-null   object\n",
      " 4   Location                     1000 non-null   object\n",
      " 5   Income                       1000 non-null   int64 \n",
      " 6   Interests                    1000 non-null   object\n",
      " 7   Last_Login_Days_Ago          1000 non-null   int64 \n",
      " 8   Purchase_Frequency           1000 non-null   int64 \n",
      " 9   Average_Order_Value          1000 non-null   int64 \n",
      " 10  Total_Spending               1000 non-null   int64 \n",
      " 11  Product_Category_Preference  1000 non-null   object\n",
      " 12  Time_Spent_on_Site_Minutes   1000 non-null   int64 \n",
      " 13  Pages_Viewed                 1000 non-null   int64 \n",
      " 14  Newsletter_Subscription      1000 non-null   bool  \n",
      "dtypes: bool(1), int64(9), object(5)\n",
      "memory usage: 110.5+ KB\n",
      "None\n"
     ]
    }
   ],
   "source": [
    "print(data.info())"
   ]
  },
  {
   "cell_type": "code",
   "execution_count": 5,
   "metadata": {},
   "outputs": [],
   "source": [
    "#Handle categorical features\n",
    "label_encoder = LabelEncoder()"
   ]
  },
  {
   "cell_type": "code",
   "execution_count": 6,
   "metadata": {},
   "outputs": [],
   "source": [
    "# Encode Gender, Location, Interests, Product_Category_Preference\n",
    "for col in ['Gender', 'Location', 'Interests', 'Product_Category_Preference']:\n",
    "    data[col] = label_encoder.fit_transform(data[col])"
   ]
  },
  {
   "cell_type": "code",
   "execution_count": 7,
   "metadata": {},
   "outputs": [
    {
     "name": "stdout",
     "output_type": "stream",
     "text": [
      "0      1\n",
      "1      2\n",
      "2      0\n",
      "3      0\n",
      "4      3\n",
      "      ..\n",
      "995    0\n",
      "996    0\n",
      "997    1\n",
      "998    2\n",
      "999    3\n",
      "Name: Product_Category_Preference, Length: 1000, dtype: int32\n"
     ]
    }
   ],
   "source": [
    "print(data[col])"
   ]
  },
  {
   "cell_type": "code",
   "execution_count": 8,
   "metadata": {},
   "outputs": [],
   "source": [
    "# Normalize numeric columns\n",
    "scaler = MinMaxScaler()"
   ]
  },
  {
   "cell_type": "code",
   "execution_count": 9,
   "metadata": {},
   "outputs": [],
   "source": [
    "numeric_cols = ['Age', 'Income', 'Last_Login_Days_Ago', 'Purchase_Frequency', \n",
    "                'Average_Order_Value', 'Total_Spending', 'Time_Spent_on_Site_Minutes', 'Pages_Viewed']\n",
    "data[numeric_cols] = scaler.fit_transform(data[numeric_cols])"
   ]
  },
  {
   "cell_type": "code",
   "execution_count": 10,
   "metadata": {},
   "outputs": [
    {
     "name": "stdout",
     "output_type": "stream",
     "text": [
      "          Age    Income  Last_Login_Days_Ago  Purchase_Frequency  \\\n",
      "0    0.826087  0.137770             0.142857            0.777778   \n",
      "1    0.608696  0.645867             0.500000            0.777778   \n",
      "2    0.304348  0.630120             0.964286            0.111111   \n",
      "3    0.913043  0.396445             0.607143            0.333333   \n",
      "4    0.152174  0.227819             0.035714            0.555556   \n",
      "..        ...       ...                  ...                 ...   \n",
      "995  0.086957  0.647223             0.607143            0.777778   \n",
      "996  0.478261  0.607476             0.535714            0.333333   \n",
      "997  0.195652  0.402478             0.250000            0.888889   \n",
      "998  0.934783  0.305117             0.000000            0.333333   \n",
      "999  0.021739  0.417247             0.392857            0.777778   \n",
      "\n",
      "     Average_Order_Value  Total_Spending  Time_Spent_on_Site_Minutes  \\\n",
      "0               0.042328        0.498056                    0.974874   \n",
      "1               0.571429        0.042562                    0.720268   \n",
      "2               0.719577        0.747698                    0.509213   \n",
      "3               0.809524        0.872724                    0.879397   \n",
      "4               0.693122        0.898302                    0.085427   \n",
      "..                   ...             ...                         ...   \n",
      "995             0.386243        0.101289                    0.904523   \n",
      "996             0.899471        0.065275                    0.597990   \n",
      "997             0.634921        0.110088                    0.551089   \n",
      "998             0.751323        0.190096                    0.711893   \n",
      "999             0.873016        0.146307                    0.829146   \n",
      "\n",
      "     Pages_Viewed  \n",
      "0        0.770833  \n",
      "1        0.812500  \n",
      "2        0.000000  \n",
      "3        0.583333  \n",
      "4        0.187500  \n",
      "..            ...  \n",
      "995      0.416667  \n",
      "996      0.062500  \n",
      "997      0.687500  \n",
      "998      0.562500  \n",
      "999      0.770833  \n",
      "\n",
      "[1000 rows x 8 columns]\n"
     ]
    }
   ],
   "source": [
    "print(data[numeric_cols])"
   ]
  },
  {
   "cell_type": "code",
   "execution_count": 11,
   "metadata": {},
   "outputs": [
    {
     "name": "stdout",
     "output_type": "stream",
     "text": [
      "   Unnamed: 0 User_ID       Age  Gender  Location    Income  Interests  \\\n",
      "0           0      #1  0.826087       1         1  0.137770          2   \n",
      "1           1      #2  0.608696       0         0  0.645867          3   \n",
      "2           2      #3  0.304348       0         1  0.630120          2   \n",
      "3           3      #4  0.913043       0         1  0.396445          0   \n",
      "4           4      #5  0.152174       1         1  0.227819          4   \n",
      "\n",
      "   Last_Login_Days_Ago  Purchase_Frequency  Average_Order_Value  \\\n",
      "0             0.142857            0.777778             0.042328   \n",
      "1             0.500000            0.777778             0.571429   \n",
      "2             0.964286            0.111111             0.719577   \n",
      "3             0.607143            0.333333             0.809524   \n",
      "4             0.035714            0.555556             0.693122   \n",
      "\n",
      "   Total_Spending  Product_Category_Preference  Time_Spent_on_Site_Minutes  \\\n",
      "0        0.498056                            1                    0.974874   \n",
      "1        0.042562                            2                    0.720268   \n",
      "2        0.747698                            0                    0.509213   \n",
      "3        0.872724                            0                    0.879397   \n",
      "4        0.898302                            3                    0.085427   \n",
      "\n",
      "   Pages_Viewed  Newsletter_Subscription  \n",
      "0      0.770833                     True  \n",
      "1      0.812500                    False  \n",
      "2      0.000000                     True  \n",
      "3      0.583333                    False  \n",
      "4      0.187500                     True  \n"
     ]
    }
   ],
   "source": [
    "print(data.head())"
   ]
  },
  {
   "cell_type": "markdown",
   "metadata": {},
   "source": [
    "Content-Based Filtering\n",
    "We'll recommend products based on user preferences and interests"
   ]
  },
  {
   "cell_type": "code",
   "execution_count": 12,
   "metadata": {},
   "outputs": [],
   "source": [
    "from sklearn.metrics.pairwise import cosine_similarity\n",
    "import numpy as np"
   ]
  },
  {
   "cell_type": "code",
   "execution_count": 13,
   "metadata": {},
   "outputs": [],
   "source": [
    "# Use features for content-based filtering\n",
    "features = ['Interests', 'Product_Category_Preference', 'Age', 'Gender', 'Income', \n",
    "            'Time_Spent_on_Site_Minutes', 'Pages_Viewed']\n",
    "user_profiles = data[features]"
   ]
  },
  {
   "cell_type": "code",
   "execution_count": 14,
   "metadata": {},
   "outputs": [],
   "source": [
    "# Compute cosine similarity between users\n",
    "similarity_matrix = cosine_similarity(user_profiles)"
   ]
  },
  {
   "cell_type": "code",
   "execution_count": 15,
   "metadata": {},
   "outputs": [
    {
     "name": "stdout",
     "output_type": "stream",
     "text": [
      "Recommendations for User #1:\n",
      "    User_ID  Product_Category_Preference\n",
      "702    #703                            1\n",
      "362    #363                            1\n",
      "781    #782                            1\n",
      "213    #214                            1\n",
      "154    #155                            1\n"
     ]
    }
   ],
   "source": [
    "# Function to recommend similar products\n",
    "def recommend_content_based(user_id, top_n=5):\n",
    "    user_index = data[data['User_ID'] == user_id].index[0]\n",
    "    similarity_scores = list(enumerate(similarity_matrix[user_index]))\n",
    "    similarity_scores = sorted(similarity_scores, key=lambda x: x[1], reverse=True)\n",
    "    \n",
    "    # Get top similar users (excluding self)\n",
    "    top_users = [data.iloc[x[0]] for x in similarity_scores[1:top_n+1]]\n",
    "    return pd.DataFrame(top_users)[['User_ID', 'Product_Category_Preference']]\n",
    "\n",
    "# Example: Recommend for User #1\n",
    "recommendations = recommend_content_based(\"#1\", top_n=5)\n",
    "print(\"Recommendations for User #1:\")\n",
    "print(recommendations)"
   ]
  },
  {
   "cell_type": "markdown",
   "metadata": {},
   "source": [
    "Collaborative Filtering\n",
    "We'll use the purchase frequency and preferences to recommend items."
   ]
  },
  {
   "cell_type": "code",
   "execution_count": 17,
   "metadata": {},
   "outputs": [],
   "source": [
    "from sklearn.neighbors import NearestNeighbors"
   ]
  },
  {
   "cell_type": "code",
   "execution_count": 18,
   "metadata": {},
   "outputs": [],
   "source": [
    "# Create a user-item interaction matrix\n",
    "interaction_matrix = data.pivot(index='User_ID', columns='Product_Category_Preference', values='Purchase_Frequency').fillna(0)"
   ]
  },
  {
   "cell_type": "code",
   "execution_count": 19,
   "metadata": {},
   "outputs": [
    {
     "data": {
      "text/html": [
       "<style>#sk-container-id-1 {color: black;}#sk-container-id-1 pre{padding: 0;}#sk-container-id-1 div.sk-toggleable {background-color: white;}#sk-container-id-1 label.sk-toggleable__label {cursor: pointer;display: block;width: 100%;margin-bottom: 0;padding: 0.3em;box-sizing: border-box;text-align: center;}#sk-container-id-1 label.sk-toggleable__label-arrow:before {content: \"▸\";float: left;margin-right: 0.25em;color: #696969;}#sk-container-id-1 label.sk-toggleable__label-arrow:hover:before {color: black;}#sk-container-id-1 div.sk-estimator:hover label.sk-toggleable__label-arrow:before {color: black;}#sk-container-id-1 div.sk-toggleable__content {max-height: 0;max-width: 0;overflow: hidden;text-align: left;background-color: #f0f8ff;}#sk-container-id-1 div.sk-toggleable__content pre {margin: 0.2em;color: black;border-radius: 0.25em;background-color: #f0f8ff;}#sk-container-id-1 input.sk-toggleable__control:checked~div.sk-toggleable__content {max-height: 200px;max-width: 100%;overflow: auto;}#sk-container-id-1 input.sk-toggleable__control:checked~label.sk-toggleable__label-arrow:before {content: \"▾\";}#sk-container-id-1 div.sk-estimator input.sk-toggleable__control:checked~label.sk-toggleable__label {background-color: #d4ebff;}#sk-container-id-1 div.sk-label input.sk-toggleable__control:checked~label.sk-toggleable__label {background-color: #d4ebff;}#sk-container-id-1 input.sk-hidden--visually {border: 0;clip: rect(1px 1px 1px 1px);clip: rect(1px, 1px, 1px, 1px);height: 1px;margin: -1px;overflow: hidden;padding: 0;position: absolute;width: 1px;}#sk-container-id-1 div.sk-estimator {font-family: monospace;background-color: #f0f8ff;border: 1px dotted black;border-radius: 0.25em;box-sizing: border-box;margin-bottom: 0.5em;}#sk-container-id-1 div.sk-estimator:hover {background-color: #d4ebff;}#sk-container-id-1 div.sk-parallel-item::after {content: \"\";width: 100%;border-bottom: 1px solid gray;flex-grow: 1;}#sk-container-id-1 div.sk-label:hover label.sk-toggleable__label {background-color: #d4ebff;}#sk-container-id-1 div.sk-serial::before {content: \"\";position: absolute;border-left: 1px solid gray;box-sizing: border-box;top: 0;bottom: 0;left: 50%;z-index: 0;}#sk-container-id-1 div.sk-serial {display: flex;flex-direction: column;align-items: center;background-color: white;padding-right: 0.2em;padding-left: 0.2em;position: relative;}#sk-container-id-1 div.sk-item {position: relative;z-index: 1;}#sk-container-id-1 div.sk-parallel {display: flex;align-items: stretch;justify-content: center;background-color: white;position: relative;}#sk-container-id-1 div.sk-item::before, #sk-container-id-1 div.sk-parallel-item::before {content: \"\";position: absolute;border-left: 1px solid gray;box-sizing: border-box;top: 0;bottom: 0;left: 50%;z-index: -1;}#sk-container-id-1 div.sk-parallel-item {display: flex;flex-direction: column;z-index: 1;position: relative;background-color: white;}#sk-container-id-1 div.sk-parallel-item:first-child::after {align-self: flex-end;width: 50%;}#sk-container-id-1 div.sk-parallel-item:last-child::after {align-self: flex-start;width: 50%;}#sk-container-id-1 div.sk-parallel-item:only-child::after {width: 0;}#sk-container-id-1 div.sk-dashed-wrapped {border: 1px dashed gray;margin: 0 0.4em 0.5em 0.4em;box-sizing: border-box;padding-bottom: 0.4em;background-color: white;}#sk-container-id-1 div.sk-label label {font-family: monospace;font-weight: bold;display: inline-block;line-height: 1.2em;}#sk-container-id-1 div.sk-label-container {text-align: center;}#sk-container-id-1 div.sk-container {/* jupyter's `normalize.less` sets `[hidden] { display: none; }` but bootstrap.min.css set `[hidden] { display: none !important; }` so we also need the `!important` here to be able to override the default hidden behavior on the sphinx rendered scikit-learn.org. See: https://github.com/scikit-learn/scikit-learn/issues/21755 */display: inline-block !important;position: relative;}#sk-container-id-1 div.sk-text-repr-fallback {display: none;}</style><div id=\"sk-container-id-1\" class=\"sk-top-container\"><div class=\"sk-text-repr-fallback\"><pre>NearestNeighbors(algorithm=&#x27;brute&#x27;, metric=&#x27;cosine&#x27;)</pre><b>In a Jupyter environment, please rerun this cell to show the HTML representation or trust the notebook. <br />On GitHub, the HTML representation is unable to render, please try loading this page with nbviewer.org.</b></div><div class=\"sk-container\" hidden><div class=\"sk-item\"><div class=\"sk-estimator sk-toggleable\"><input class=\"sk-toggleable__control sk-hidden--visually\" id=\"sk-estimator-id-1\" type=\"checkbox\" checked><label for=\"sk-estimator-id-1\" class=\"sk-toggleable__label sk-toggleable__label-arrow\">NearestNeighbors</label><div class=\"sk-toggleable__content\"><pre>NearestNeighbors(algorithm=&#x27;brute&#x27;, metric=&#x27;cosine&#x27;)</pre></div></div></div></div></div>"
      ],
      "text/plain": [
       "NearestNeighbors(algorithm='brute', metric='cosine')"
      ]
     },
     "execution_count": 19,
     "metadata": {},
     "output_type": "execute_result"
    }
   ],
   "source": [
    "# Build a KNN model for collaborative filtering\n",
    "model_knn = NearestNeighbors(metric='cosine', algorithm='brute')\n",
    "model_knn.fit(interaction_matrix)"
   ]
  },
  {
   "cell_type": "code",
   "execution_count": 20,
   "metadata": {},
   "outputs": [
    {
     "name": "stdout",
     "output_type": "stream",
     "text": [
      "Collaborative Recommendations for User #1:\n",
      "['#864', '#870', '#865', '#872', '#489']\n"
     ]
    }
   ],
   "source": [
    "# Recommend items for a user\n",
    "def recommend_collaborative(user_id, top_n=5):\n",
    "    user_index = interaction_matrix.index.get_loc(user_id)\n",
    "    distances, indices = model_knn.kneighbors(interaction_matrix.iloc[user_index, :].values.reshape(1, -1), n_neighbors=top_n+1)\n",
    "    \n",
    "    # Get recommended items\n",
    "    recommended_users = [interaction_matrix.index[i] for i in indices.flatten()[1:]]\n",
    "    return recommended_users\n",
    "\n",
    "# Example: Recommend for User #1\n",
    "collab_recommendations = recommend_collaborative(\"#1\", top_n=5)\n",
    "print(\"Collaborative Recommendations for User #1:\")\n",
    "print(collab_recommendations)"
   ]
  },
  {
   "cell_type": "code",
   "execution_count": 21,
   "metadata": {},
   "outputs": [
    {
     "name": "stdout",
     "output_type": "stream",
     "text": [
      "RMSE: 0.14142135623730953\n"
     ]
    }
   ],
   "source": [
    "from sklearn.metrics import mean_squared_error\n",
    "import numpy as np\n",
    "\n",
    "# Example: Evaluate using RMSE\n",
    "true_values = [4, 3, 5]  # Replace with actual ratings or interactions\n",
    "predicted_values = [3.8, 3.1, 4.9]  # Replace with predicted values\n",
    "rmse = np.sqrt(mean_squared_error(true_values, predicted_values))\n",
    "print(\"RMSE:\", rmse)"
   ]
  },
  {
   "cell_type": "code",
   "execution_count": null,
   "metadata": {},
   "outputs": [],
   "source": []
  }
 ],
 "metadata": {
  "kernelspec": {
   "display_name": "base",
   "language": "python",
   "name": "python3"
  },
  "language_info": {
   "codemirror_mode": {
    "name": "ipython",
    "version": 3
   },
   "file_extension": ".py",
   "mimetype": "text/x-python",
   "name": "python",
   "nbconvert_exporter": "python",
   "pygments_lexer": "ipython3",
   "version": "3.11.5"
  }
 },
 "nbformat": 4,
 "nbformat_minor": 2
}
